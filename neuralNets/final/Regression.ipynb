{
 "cells": [
  {
   "cell_type": "code",
   "execution_count": 57,
   "metadata": {
    "collapsed": true
   },
   "outputs": [],
   "source": [
    "from sklearn import linear_model\n",
    "import matplotlib.pyplot as plt"
   ]
  },
  {
   "cell_type": "code",
   "execution_count": 58,
   "metadata": {
    "collapsed": true
   },
   "outputs": [],
   "source": [
    "def parseMatrixFromFile(fname):\n",
    "    with open(fname) as f:\n",
    "        for l in f:\n",
    "            #print(l)\n",
    "            yield [float(x) for x in l.strip().split()]"
   ]
  },
  {
   "cell_type": "code",
   "execution_count": 59,
   "metadata": {
    "collapsed": true
   },
   "outputs": [],
   "source": [
    "rhythm_data_ = list(parseMatrixFromFile(\"mus_dataset_2.txt\"))\n",
    "rhythm_data_ = rhythm_data_[0]"
   ]
  },
  {
   "cell_type": "code",
   "execution_count": 72,
   "metadata": {},
   "outputs": [
    {
     "data": {
      "text/plain": [
       "221"
      ]
     },
     "execution_count": 72,
     "metadata": {},
     "output_type": "execute_result"
    }
   ],
   "source": [
    "len(rhythm_data_)"
   ]
  },
  {
   "cell_type": "code",
   "execution_count": 84,
   "metadata": {
    "collapsed": true
   },
   "outputs": [],
   "source": [
    "memory = 50"
   ]
  },
  {
   "cell_type": "code",
   "execution_count": 85,
   "metadata": {},
   "outputs": [
    {
     "data": {
      "image/png": "[encoded data removed]",
      "text/plain": [
       "<matplotlib.figure.Figure at 0x1fc7fc91080>"
      ]
     },
     "metadata": {},
     "output_type": "display_data"
    }
   ],
   "source": [
    "x = [i for (i,x) in enumerate(rhythm_data_)]\n",
    "\n",
    "plt.plot(x,rhythm_data_)\n",
    "plt.xlabel(\"Time\")\n",
    "plt.ylabel(\"Duration\")\n",
    "plt.show()"
   ]
  },
  {
   "cell_type": "code",
   "execution_count": 86,
   "metadata": {
    "collapsed": true
   },
   "outputs": [],
   "source": [
    "# convert an array of values into a dataset matrix\n",
    "def create_dataset(dataset, look_back=1):\n",
    "\tdataX, dataY = [], []\n",
    "\tfor i in range(len(dataset)-look_back-1):\n",
    "\t\ta = dataset[i:(i+look_back)]\n",
    "\t\tdataX.append(a)\n",
    "\t\tdataY.append(dataset[i + look_back])\n",
    "\treturn dataX, dataY"
   ]
  },
  {
   "cell_type": "code",
   "execution_count": 87,
   "metadata": {},
   "outputs": [],
   "source": [
    "X_train, y_train = create_dataset(rhythm_data_, look_back=memory)"
   ]
  },
  {
   "cell_type": "code",
   "execution_count": 88,
   "metadata": {},
   "outputs": [
    {
     "data": {
      "text/plain": [
       "LinearRegression(copy_X=True, fit_intercept=True, n_jobs=1, normalize=False)"
      ]
     },
     "execution_count": 88,
     "metadata": {},
     "output_type": "execute_result"
    }
   ],
   "source": [
    "clf = linear_model.LinearRegression()\n",
    "clf.fit(X_train, y_train)"
   ]
  },
  {
   "cell_type": "code",
   "execution_count": 89,
   "metadata": {},
   "outputs": [],
   "source": [
    "train_size = len(rhythm_data_)"
   ]
  },
  {
   "cell_type": "code",
   "execution_count": 90,
   "metadata": {},
   "outputs": [
    {
     "name": "stdout",
     "output_type": "stream",
     "text": [
      "Seed: 0\n",
      "[1.4375, 0.4947916666666667, 1.328125, 0.3072916666666667, 0.4166666666666667, 1.2760416666666667, 0.2552083333333333, 0.4375, 0.296875, 0.484375, 0.46875, 0.46875, 0.671875, 0.546875, 0.4114583333333333, 0.14583333333333334, 0.46875, 0.5104166666666666, 0.765625, 0.4427083333333333, 1.234375, 0.5364583333333334, 0.5625, 0.359375, 1.140625, 0.5104166666666666, 0.3489583333333333, 0.578125, 0.23958333333333334, 0.296875, 0.3645833333333333, 0.640625, 0.3333333333333333, 0.46875, 0.7708333333333334, 0.6979166666666666, 1.6510416666666667, 0.5208333333333334, 0.3958333333333333, 0.6041666666666666, 0.3489583333333333, 0.6614583333333334, 0.5104166666666666, 0.453125, 0.359375, 0.4947916666666667, 0.5208333333333334, 0.7083333333333334, 0.75, 0.46875]\n",
      "------> 0.659485172002\n",
      "------> 0.6618235249\n",
      "------> 0.728194666501\n",
      "------> 0.779934470634\n",
      "------> 0.534894772077\n",
      "------> 0.745024349055\n",
      "------> 0.817636224407\n",
      "------> 0.634305546418\n",
      "------> 0.704066311906\n",
      "------> 0.556969289641\n",
      "------> 0.66665629354\n",
      "------> 0.514812346063\n",
      "------> 0.841181776983\n",
      "------> 0.673488201351\n",
      "------> 0.918258022534\n",
      "------> 0.716087512354\n",
      "------> 0.861074248295\n",
      "------> 0.822293039719\n",
      "------> 1.09440953627\n",
      "------> 0.546012900719\n",
      "------> 0.936674435194\n",
      "------> 0.753931393772\n",
      "------> 0.595491082529\n",
      "------> 0.692809166678\n",
      "------> 0.586835226191\n",
      "------> 0.560190111034\n",
      "------> 0.637026385774\n",
      "------> 0.742085475487\n",
      "------> 0.667144693679\n",
      "------> 0.817128820655\n",
      "------> 0.761468578427\n",
      "------> 0.694413238764\n",
      "------> 0.972176912375\n",
      "------> 0.710776035582\n",
      "------> 0.765358103574\n",
      "------> 0.684415957062\n",
      "------> 0.57429092191\n",
      "------> 0.792566976213\n",
      "------> 0.666699421022\n",
      "------> 0.735269360187\n",
      "------> 0.69493922067\n",
      "------> 0.663070421501\n",
      "------> 0.666492533649\n",
      "------> 0.66183283843\n",
      "------> 0.762087616919\n",
      "------> 0.592950899313\n",
      "------> 0.788844998426\n",
      "------> 0.644568946375\n",
      "------> 0.730381427752\n",
      "------> 0.783184068879\n",
      "------> 0.709783609368\n",
      "------> 0.615133774424\n",
      "------> 0.759853766801\n",
      "------> 0.605217466981\n",
      "------> 0.656982827719\n",
      "------> 0.590694488179\n",
      "------> 0.654490407715\n",
      "------> 0.539168108874\n",
      "------> 0.79601703166\n",
      "------> 0.615992165642\n",
      "------> 0.819277510928\n",
      "------> 0.748420885992\n",
      "------> 0.743436144753\n",
      "------> 0.739871009352\n",
      "------> 0.876863406491\n",
      "------> 0.670712866884\n",
      "------> 0.819355002392\n",
      "------> 0.698846474588\n",
      "------> 0.688592595084\n",
      "------> 0.734160975647\n",
      "------> 0.661597395771\n",
      "------> 0.712093209606\n",
      "------> 0.705530954669\n",
      "------> 0.7354255882\n",
      "------> 0.713525367049\n",
      "------> 0.780540113096\n",
      "------> 0.717292394289\n",
      "------> 0.708562476905\n",
      "------> 0.784548215607\n",
      "------> 0.681445944907\n",
      "------> 0.763205548706\n",
      "------> 0.735321234871\n",
      "------> 0.674030561615\n",
      "------> 0.732929275805\n",
      "------> 0.729013682477\n",
      "------> 0.704257444566\n",
      "------> 0.733043477631\n",
      "------> 0.699190836824\n",
      "------> 0.700489458026\n",
      "------> 0.672823408544\n",
      "------> 0.793051943969\n",
      "------> 0.639672244672\n",
      "------> 0.842816969739\n",
      "------> 0.704606127539\n",
      "------> 0.768601687309\n",
      "------> 0.755153677384\n",
      "------> 0.763842972784\n",
      "------> 0.667360989705\n",
      "------> 0.756391302236\n",
      "------> 0.638462463477\n",
      "------> 0.712433618404\n",
      "------> 0.656176901935\n",
      "------> 0.69085548523\n",
      "------> 0.636893701706\n",
      "------> 0.74576666824\n",
      "------> 0.642685484391\n",
      "------> 0.75389993825\n",
      "------> 0.711410220855\n",
      "------> 0.701978898024\n",
      "------> 0.712683653796\n",
      "------> 0.732679712928\n",
      "------> 0.684273912941\n",
      "------> 0.747311449411\n",
      "------> 0.697885830636\n",
      "------> 0.694211460261\n",
      "------> 0.728723116094\n",
      "------> 0.693139684177\n",
      "------> 0.715599364932\n",
      "------> 0.723732608272\n",
      "------> 0.725087103525\n",
      "------> 0.707903134089\n",
      "------> 0.750796853378\n",
      "------> 0.72108303735\n",
      "------> 0.703688086249\n",
      "------> 0.769170630462\n",
      "------> 0.687361614119\n",
      "------> 0.753260513647\n",
      "------> 0.727314899546\n",
      "------> 0.718873530552\n",
      "------> 0.701042683306\n",
      "------> 0.732870274536\n",
      "------> 0.668443169947\n",
      "------> 0.732526729421\n",
      "------> 0.680198569022\n",
      "------> 0.714782363583\n",
      "------> 0.678851153409\n",
      "------> 0.763195257134\n",
      "------> 0.662230557004\n",
      "------> 0.800984049916\n",
      "------> 0.695259391601\n",
      "------> 0.762706550108\n",
      "------> 0.725563657889\n",
      "------> 0.744296580821\n",
      "------> 0.701835538043\n",
      "------> 0.751703821457\n",
      "------> 0.685523236887\n",
      "------> 0.736296703487\n",
      "------> 0.710250461886\n",
      "------> 0.720953155198\n",
      "------> 0.701489648005\n",
      "------> 0.741823609051\n",
      "------> 0.689285730252\n",
      "------> 0.733710710318\n",
      "------> 0.721371907012\n",
      "------> 0.70324717904\n",
      "------> 0.719692736758\n",
      "------> 0.714448307035\n",
      "------> 0.695104583165\n",
      "------> 0.723694678277\n",
      "------> 0.705711824442\n",
      "------> 0.698246433927\n",
      "------> 0.713582172896\n",
      "------> 0.702731873754\n",
      "------> 0.694871299271\n",
      "------> 0.722365519487\n",
      "------> 0.701309655657\n",
      "------> 0.712283181634\n",
      "------> 0.721088114431\n",
      "------> 0.72511229235\n",
      "------> 0.701909831623\n",
      "------> 0.75984055554\n",
      "------> 0.691275486411\n",
      "------> 0.755736109432\n",
      "------> 0.710551442199\n",
      "------> 0.735187126947\n",
      "------> 0.701467233065\n",
      "------> 0.737757250195\n",
      "------> 0.677171314058\n",
      "------> 0.738900436576\n",
      "------> 0.687319954878\n",
      "------> 0.725775605839\n",
      "------> 0.693680097514\n",
      "------> 0.741529153539\n",
      "------> 0.67939468752\n",
      "------> 0.756285094473\n",
      "------> 0.691153024165\n",
      "------> 0.733520675977\n",
      "------> 0.710801058269\n",
      "------> 0.721008852772\n",
      "------> 0.704017803754\n",
      "------> 0.731129235663\n",
      "------> 0.70263530462\n",
      "------> 0.723543599268\n",
      "------> 0.721041559927\n",
      "------> 0.718540552432\n",
      "------> 0.71584533868\n",
      "------> 0.73316321377\n",
      "------> 0.708007607916\n",
      "------> 0.729268293331\n",
      "------> 0.726457649937\n",
      "------> 0.716449605927\n",
      "------> 0.727877334976\n",
      "------> 0.725320415909\n",
      "------> 0.709537996111\n",
      "------> 0.73084258784\n",
      "------> 0.709995606061\n",
      "------> 0.716334611541\n",
      "------> 0.710840726716\n",
      "------> 0.716085964913\n",
      "------> 0.693553809528\n",
      "------> 0.727400086413\n",
      "------> 0.69234828477\n",
      "------> 0.721706171474\n",
      "------> 0.704963119966\n",
      "------> 0.725024657692\n",
      "------> 0.697624113626\n",
      "------> 0.743962948501\n",
      "------> 0.689954268837\n",
      "------> 0.74336909117\n",
      "------> 0.701439111009\n",
      "------> 0.731560506554\n",
      "Generation Completed!\n"
     ]
    }
   ],
   "source": [
    "generated_rhythm = []\n",
    "num_samples = train_size\n",
    "\n",
    "# fix random seed for reproducibility\n",
    "#np.random.seed(7)\n",
    "#start = np.random.randint(0, train_size-1)\n",
    "start = 0\n",
    "pattern_raw = X_train[0]\n",
    "pattern = pattern_raw\n",
    "print(\"Seed:\",start)\n",
    "print(pattern)\n",
    "\n",
    "# generate sequence with a random seed\n",
    "for i in range(num_samples):\n",
    "    x = pattern\n",
    "    \n",
    "    prediction = clf.predict([x])\n",
    "    print(\"------>\",prediction[0])\n",
    "    generated_rhythm.append(prediction[0])\n",
    "    pattern.append(prediction[0])\n",
    "    pattern = pattern[1:len(pattern)]\n",
    "print(\"Generation Completed!\")"
   ]
  },
  {
   "cell_type": "code",
   "execution_count": 91,
   "metadata": {
    "collapsed": true
   },
   "outputs": [],
   "source": [
    "def write_to_file(filename, arg_list):\n",
    "    file = open(filename, 'w')\n",
    "    for item in arg_list:\n",
    "        file.write(str(item)+\" \")\n",
    "    file.close()\n",
    "    print(\"Output dumped to file \",filename)"
   ]
  },
  {
   "cell_type": "code",
   "execution_count": 92,
   "metadata": {},
   "outputs": [
    {
     "name": "stdout",
     "output_type": "stream",
     "text": [
      "Output dumped to file  mus_dataset_2_output.txt\n"
     ]
    }
   ],
   "source": [
    "write_to_file(\"mus_dataset_2_output.txt\",generated_rhythm)"
   ]
  },
  {
   "cell_type": "code",
   "execution_count": 93,
   "metadata": {
    "scrolled": true
   },
   "outputs": [],
   "source": [
    "final_result = generated_rhythm"
   ]
  },
  {
   "cell_type": "code",
   "execution_count": 94,
   "metadata": {},
   "outputs": [
    {
     "data": {
      "image/png": "[encoded data removed]",
      "text/plain": [
       "<matplotlib.figure.Figure at 0x1fc7f73ca90>"
      ]
     },
     "metadata": {},
     "output_type": "display_data"
    }
   ],
   "source": [
    "x = [i for (i,x) in enumerate(final_result)]\n",
    "plt.plot(x,final_result)\n",
    "plt.xlabel(\"Time\")\n",
    "plt.ylabel(\"Duration\")\n",
    "plt.show()"
   ]
  }
 ],
 "metadata": {
  "kernelspec": {
   "display_name": "Python 3",
   "language": "python",
   "name": "python3"
  },
  "language_info": {
   "codemirror_mode": {
    "name": "ipython",
    "version": 3
   },
   "file_extension": ".py",
   "mimetype": "text/x-python",
   "name": "python",
   "nbconvert_exporter": "python",
   "pygments_lexer": "ipython3",
   "version": "3.6.2"
  }
 },
 "nbformat": 4,
 "nbformat_minor": 2
}
