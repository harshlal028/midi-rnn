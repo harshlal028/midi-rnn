{
 "cells": [
  {
   "cell_type": "code",
   "execution_count": 61,
   "metadata": {
    "collapsed": true
   },
   "outputs": [],
   "source": [
    "import numpy as np\n",
    "import matplotlib.pyplot as plt\n",
    "import math\n",
    "from keras.models import Sequential\n",
    "from keras.layers import Dense\n",
    "from keras.layers import LSTM\n",
    "\n",
    "from keras.layers import Dropout\n",
    "from keras.callbacks import ModelCheckpoint\n",
    "from keras.utils import np_utils\n",
    "\n",
    "from sklearn.preprocessing import MinMaxScaler\n",
    "from sklearn.metrics import mean_squared_error\n",
    "import tensorflow as tf"
   ]
  },
  {
   "cell_type": "code",
   "execution_count": 62,
   "metadata": {
    "collapsed": true
   },
   "outputs": [],
   "source": [
    "def parseMatrixFromFile(fname):\n",
    "    with open(fname) as f:\n",
    "        for l in f:\n",
    "            #print(l)\n",
    "            yield [float(x) for x in l.strip().split()]"
   ]
  },
  {
   "cell_type": "code",
   "execution_count": 64,
   "metadata": {
    "collapsed": true
   },
   "outputs": [],
   "source": [
    "rhythm_data_ = list(parseMatrixFromFile(\"mus_dataset_2.txt\"))\n",
    "\n",
    "rhythm_data_ = rhythm_data_[0]"
   ]
  },
  {
   "cell_type": "code",
   "execution_count": 65,
   "metadata": {},
   "outputs": [
    {
     "data": {
      "text/plain": [
       "221"
      ]
     },
     "execution_count": 65,
     "metadata": {},
     "output_type": "execute_result"
    }
   ],
   "source": [
    "len(rhythm_data_)"
   ]
  },
  {
   "cell_type": "code",
   "execution_count": 66,
   "metadata": {
    "collapsed": true
   },
   "outputs": [],
   "source": [
    "memory = 10"
   ]
  },
  {
   "cell_type": "code",
   "execution_count": 68,
   "metadata": {},
   "outputs": [
    {
     "data": {
      "image/png": "[encoded data removed]",
      "text/plain": [
       "<matplotlib.figure.Figure at 0x7fb2fc797450>"
      ]
     },
     "metadata": {},
     "output_type": "display_data"
    }
   ],
   "source": [
    "x = [i for (i,x) in enumerate(rhythm_data_)]\n",
    "\n",
    "plt.plot(x,rhythm_data_)\n",
    "plt.xlabel(\"Time\")\n",
    "plt.ylabel(\"Duration\")\n",
    "plt.show()"
   ]
  },
  {
   "cell_type": "code",
   "execution_count": 69,
   "metadata": {
    "collapsed": true
   },
   "outputs": [],
   "source": [
    "raw_data = np.reshape(rhythm_data_,(len(rhythm_data_),1))"
   ]
  },
  {
   "cell_type": "code",
   "execution_count": 70,
   "metadata": {
    "collapsed": true
   },
   "outputs": [],
   "source": [
    "scaler = MinMaxScaler(feature_range=(0, 1))\n",
    "dataset = scaler.fit_transform(raw_data)"
   ]
  },
  {
   "cell_type": "code",
   "execution_count": 71,
   "metadata": {},
   "outputs": [
    {
     "data": {
      "text/plain": [
       "(221, 1)"
      ]
     },
     "execution_count": 71,
     "metadata": {},
     "output_type": "execute_result"
    }
   ],
   "source": [
    "np.shape(dataset)"
   ]
  },
  {
   "cell_type": "code",
   "execution_count": 72,
   "metadata": {
    "collapsed": true
   },
   "outputs": [],
   "source": [
    "train_size = len(dataset)"
   ]
  },
  {
   "cell_type": "code",
   "execution_count": 73,
   "metadata": {
    "collapsed": true
   },
   "outputs": [],
   "source": [
    "# convert an array of values into a dataset matrix\n",
    "def create_dataset(dataset, look_back=1):\n",
    "\tdataX, dataY = [], []\n",
    "\tfor i in range(len(dataset)-look_back-1):\n",
    "\t\ta = dataset[i:(i+look_back), 0]\n",
    "\t\tdataX.append(a)\n",
    "\t\tdataY.append(dataset[i + look_back, 0])\n",
    "\treturn dataX, dataY"
   ]
  },
  {
   "cell_type": "code",
   "execution_count": 74,
   "metadata": {
    "collapsed": true
   },
   "outputs": [],
   "source": [
    "# reshape into X=t and Y=t+1\n",
    "look_back = memory\n",
    "X_train, Y_train = create_dataset(dataset, look_back)\n",
    "trainX = np.array(X_train)\n",
    "trainY = np.array(Y_train)"
   ]
  },
  {
   "cell_type": "code",
   "execution_count": 77,
   "metadata": {
    "collapsed": true
   },
   "outputs": [],
   "source": [
    "# reshape input to be [samples, time steps, features]\n",
    "trainX = np.reshape(trainX, (trainX.shape[0], 1, trainX.shape[1]))"
   ]
  },
  {
   "cell_type": "code",
   "execution_count": 78,
   "metadata": {},
   "outputs": [
    {
     "name": "stdout",
     "output_type": "stream",
     "text": [
      "Epoch 1/100\n",
      "1s - loss: 0.0160\n",
      "Epoch 2/100\n",
      "1s - loss: 0.0146\n",
      "Epoch 3/100\n",
      "1s - loss: 0.0144\n",
      "Epoch 4/100\n",
      "1s - loss: 0.0143\n",
      "Epoch 5/100\n",
      "1s - loss: 0.0144\n",
      "Epoch 6/100\n",
      "1s - loss: 0.0141\n",
      "Epoch 7/100\n",
      "1s - loss: 0.0139\n",
      "Epoch 8/100\n",
      "1s - loss: 0.0140\n",
      "Epoch 9/100\n",
      "1s - loss: 0.0139\n",
      "Epoch 10/100\n",
      "1s - loss: 0.0139\n",
      "Epoch 11/100\n",
      "1s - loss: 0.0139\n",
      "Epoch 12/100\n",
      "1s - loss: 0.0139\n",
      "Epoch 13/100\n",
      "1s - loss: 0.0137\n",
      "Epoch 14/100\n",
      "1s - loss: 0.0137\n",
      "Epoch 15/100\n",
      "1s - loss: 0.0136\n",
      "Epoch 16/100\n",
      "1s - loss: 0.0135\n",
      "Epoch 17/100\n",
      "1s - loss: 0.0136\n",
      "Epoch 18/100\n",
      "1s - loss: 0.0135\n",
      "Epoch 19/100\n",
      "1s - loss: 0.0135\n",
      "Epoch 20/100\n",
      "1s - loss: 0.0135\n",
      "Epoch 21/100\n",
      "1s - loss: 0.0135\n",
      "Epoch 22/100\n",
      "1s - loss: 0.0136\n",
      "Epoch 23/100\n",
      "1s - loss: 0.0133\n",
      "Epoch 24/100\n",
      "1s - loss: 0.0133\n",
      "Epoch 25/100\n",
      "1s - loss: 0.0132\n",
      "Epoch 26/100\n",
      "1s - loss: 0.0135\n",
      "Epoch 27/100\n",
      "1s - loss: 0.0133\n",
      "Epoch 28/100\n",
      "1s - loss: 0.0133\n",
      "Epoch 29/100\n",
      "1s - loss: 0.0132\n",
      "Epoch 30/100\n",
      "1s - loss: 0.0132\n",
      "Epoch 31/100\n",
      "1s - loss: 0.0134\n",
      "Epoch 32/100\n",
      "1s - loss: 0.0133\n",
      "Epoch 33/100\n",
      "1s - loss: 0.0131\n",
      "Epoch 34/100\n",
      "1s - loss: 0.0131\n",
      "Epoch 35/100\n",
      "1s - loss: 0.0132\n",
      "Epoch 36/100\n",
      "1s - loss: 0.0130\n",
      "Epoch 37/100\n",
      "1s - loss: 0.0132\n",
      "Epoch 38/100\n",
      "1s - loss: 0.0131\n",
      "Epoch 39/100\n",
      "1s - loss: 0.0131\n",
      "Epoch 40/100\n",
      "1s - loss: 0.0129\n",
      "Epoch 41/100\n",
      "1s - loss: 0.0130\n",
      "Epoch 42/100\n",
      "1s - loss: 0.0130\n",
      "Epoch 43/100\n",
      "1s - loss: 0.0129\n",
      "Epoch 44/100\n",
      "1s - loss: 0.0128\n",
      "Epoch 45/100\n",
      "1s - loss: 0.0128\n",
      "Epoch 46/100\n",
      "1s - loss: 0.0127\n",
      "Epoch 47/100\n",
      "1s - loss: 0.0126\n",
      "Epoch 48/100\n",
      "1s - loss: 0.0127\n",
      "Epoch 49/100\n",
      "1s - loss: 0.0126\n",
      "Epoch 50/100\n",
      "1s - loss: 0.0128\n",
      "Epoch 51/100\n",
      "1s - loss: 0.0126\n",
      "Epoch 52/100\n",
      "1s - loss: 0.0127\n",
      "Epoch 53/100\n",
      "1s - loss: 0.0125\n",
      "Epoch 54/100\n",
      "1s - loss: 0.0126\n",
      "Epoch 55/100\n",
      "1s - loss: 0.0124\n",
      "Epoch 56/100\n",
      "1s - loss: 0.0124\n",
      "Epoch 57/100\n",
      "1s - loss: 0.0123\n",
      "Epoch 58/100\n",
      "1s - loss: 0.0123\n",
      "Epoch 59/100\n",
      "1s - loss: 0.0122\n",
      "Epoch 60/100\n",
      "1s - loss: 0.0123\n",
      "Epoch 61/100\n",
      "1s - loss: 0.0121\n",
      "Epoch 62/100\n",
      "1s - loss: 0.0121\n",
      "Epoch 63/100\n",
      "1s - loss: 0.0121\n",
      "Epoch 64/100\n",
      "1s - loss: 0.0122\n",
      "Epoch 65/100\n",
      "1s - loss: 0.0119\n",
      "Epoch 66/100\n",
      "1s - loss: 0.0121\n",
      "Epoch 67/100\n",
      "1s - loss: 0.0119\n",
      "Epoch 68/100\n",
      "1s - loss: 0.0119\n",
      "Epoch 69/100\n",
      "1s - loss: 0.0119\n",
      "Epoch 70/100\n",
      "1s - loss: 0.0118\n",
      "Epoch 71/100\n",
      "1s - loss: 0.0119\n",
      "Epoch 72/100\n",
      "1s - loss: 0.0116\n",
      "Epoch 73/100\n",
      "1s - loss: 0.0116\n",
      "Epoch 74/100\n",
      "1s - loss: 0.0116\n",
      "Epoch 75/100\n",
      "1s - loss: 0.0115\n",
      "Epoch 76/100\n",
      "1s - loss: 0.0117\n",
      "Epoch 77/100\n",
      "1s - loss: 0.0114\n",
      "Epoch 78/100\n",
      "1s - loss: 0.0114\n",
      "Epoch 79/100\n",
      "1s - loss: 0.0114\n",
      "Epoch 80/100\n",
      "1s - loss: 0.0114\n",
      "Epoch 81/100\n",
      "1s - loss: 0.0113\n",
      "Epoch 82/100\n",
      "1s - loss: 0.0113\n",
      "Epoch 83/100\n",
      "1s - loss: 0.0113\n",
      "Epoch 84/100\n",
      "1s - loss: 0.0112\n",
      "Epoch 85/100\n",
      "1s - loss: 0.0112\n",
      "Epoch 86/100\n",
      "1s - loss: 0.0112\n",
      "Epoch 87/100\n",
      "1s - loss: 0.0112\n",
      "Epoch 88/100\n",
      "1s - loss: 0.0111\n",
      "Epoch 89/100\n",
      "1s - loss: 0.0110\n",
      "Epoch 90/100\n",
      "1s - loss: 0.0111\n",
      "Epoch 91/100\n",
      "1s - loss: 0.0109\n",
      "Epoch 92/100\n",
      "1s - loss: 0.0109\n",
      "Epoch 93/100\n",
      "1s - loss: 0.0111\n",
      "Epoch 94/100\n",
      "1s - loss: 0.0109\n",
      "Epoch 95/100\n",
      "1s - loss: 0.0109\n",
      "Epoch 96/100\n",
      "1s - loss: 0.0110\n",
      "Epoch 97/100\n",
      "1s - loss: 0.0109\n",
      "Epoch 98/100\n",
      "1s - loss: 0.0109\n",
      "Epoch 99/100\n",
      "1s - loss: 0.0109\n",
      "Epoch 100/100\n",
      "1s - loss: 0.0106\n"
     ]
    },
    {
     "data": {
      "text/plain": [
       "<keras.callbacks.History at 0x7fb2fc5bfd10>"
      ]
     },
     "execution_count": 78,
     "metadata": {},
     "output_type": "execute_result"
    }
   ],
   "source": [
    "# create and fit the LSTM network\n",
    "model = Sequential()\n",
    "model.add(LSTM(4, input_shape=(1, memory)))\n",
    "model.add(Dense(1))\n",
    "model.compile(loss='mean_squared_error', optimizer='adam')\n",
    "model.fit(trainX, trainY, epochs=100, batch_size=1, verbose=2)"
   ]
  },
  {
   "cell_type": "code",
   "execution_count": 79,
   "metadata": {
    "collapsed": true
   },
   "outputs": [],
   "source": [
    "# make predictions\n",
    "trainPredict = model.predict(trainX)"
   ]
  },
  {
   "cell_type": "code",
   "execution_count": 80,
   "metadata": {
    "scrolled": true
   },
   "outputs": [
    {
     "data": {
      "text/plain": [
       "(210, 1)"
      ]
     },
     "execution_count": 80,
     "metadata": {},
     "output_type": "execute_result"
    }
   ],
   "source": [
    "np.shape(trainPredict)"
   ]
  },
  {
   "cell_type": "code",
   "execution_count": 81,
   "metadata": {
    "collapsed": true
   },
   "outputs": [],
   "source": [
    "# invert predictions\n",
    "trainPredict = scaler.inverse_transform(trainPredict)\n",
    "trainY = scaler.inverse_transform([trainY])"
   ]
  },
  {
   "cell_type": "code",
   "execution_count": 110,
   "metadata": {},
   "outputs": [
    {
     "data": {
      "image/png": "[encoded data removed]",
      "text/plain": [
       "<matplotlib.figure.Figure at 0x7fb2d0156b90>"
      ]
     },
     "metadata": {},
     "output_type": "display_data"
    }
   ],
   "source": [
    "x = [i for (i,x) in enumerate(trainPredict[0:])]\n",
    "plt.plot(x,trainPredict[0:])\n",
    "plt.xlabel(\"Time\")\n",
    "plt.ylabel(\"Duration\")\n",
    "plt.show()"
   ]
  },
  {
   "cell_type": "code",
   "execution_count": 98,
   "metadata": {},
   "outputs": [
    {
     "data": {
      "text/plain": [
       "(1, 210)"
      ]
     },
     "execution_count": 98,
     "metadata": {},
     "output_type": "execute_result"
    }
   ],
   "source": [
    "np.shape(trainY)"
   ]
  },
  {
   "cell_type": "code",
   "execution_count": 82,
   "metadata": {
    "scrolled": true
   },
   "outputs": [
    {
     "name": "stdout",
     "output_type": "stream",
     "text": [
      "Train Score: 0.55 RMSE\n"
     ]
    }
   ],
   "source": [
    "# calculate root mean squared error\n",
    "trainScore = math.sqrt(mean_squared_error(trainY[0], trainPredict[:,0]))\n",
    "print('Train Score: %.2f RMSE' % (trainScore))"
   ]
  },
  {
   "cell_type": "code",
   "execution_count": 113,
   "metadata": {},
   "outputs": [
    {
     "name": "stdout",
     "output_type": "stream",
     "text": [
      "Seed:\n",
      "[ 0.26078431  0.08333333  0.24019608  0.04803922  0.06862745  0.23039216\n",
      "  0.03823529  0.07254902  0.04607843  0.08137255]\n",
      "(array([[ 0.10015723]], dtype=float32), '----------------', array([[ 0.58416861]], dtype=float32))\n",
      "(array([[ 0.09897956]], dtype=float32), '----------------', array([[ 0.57791221]], dtype=float32))\n",
      "(array([[ 0.20500532]], dtype=float32), '----------------', array([[ 1.14117408]], dtype=float32))\n",
      "(array([[ 0.16105607]], dtype=float32), '----------------', array([[ 0.90769368]], dtype=float32))\n",
      "(array([[ 0.10172907]], dtype=float32), '----------------', array([[ 0.59251899]], dtype=float32))\n",
      "(array([[ 0.16880327]], dtype=float32), '----------------', array([[ 0.94885075]], dtype=float32))\n",
      "(array([[ 0.14102429]], dtype=float32), '----------------', array([[ 0.8012749]], dtype=float32))\n",
      "(array([[ 0.13887729]], dtype=float32), '----------------', array([[ 0.78986889]], dtype=float32))\n",
      "(array([[ 0.14544004]], dtype=float32), '----------------', array([[ 0.82473356]], dtype=float32))\n",
      "(array([[ 0.1660049]], dtype=float32), '----------------', array([[ 0.93398434]], dtype=float32))\n",
      "(array([[ 0.15384807]], dtype=float32), '----------------', array([[ 0.86940116]], dtype=float32))\n",
      "(array([[ 0.13246092]], dtype=float32), '----------------', array([[ 0.75578201]], dtype=float32))\n",
      "(array([[ 0.14590886]], dtype=float32), '----------------', array([[ 0.82722414]], dtype=float32))\n",
      "(array([[ 0.15964517]], dtype=float32), '----------------', array([[ 0.90019828]], dtype=float32))\n",
      "(array([[ 0.13255212]], dtype=float32), '----------------', array([[ 0.75626647]], dtype=float32))\n",
      "(array([[ 0.14668086]], dtype=float32), '----------------', array([[ 0.83132541]], dtype=float32))\n",
      "(array([[ 0.15123957]], dtype=float32), '----------------', array([[ 0.85554355]], dtype=float32))\n",
      "(array([[ 0.14399591]], dtype=float32), '----------------', array([[ 0.8170616]], dtype=float32))\n",
      "(array([[ 0.13687745]], dtype=float32), '----------------', array([[ 0.77924478]], dtype=float32))\n",
      "(array([[ 0.14450477]], dtype=float32), '----------------', array([[ 0.81976491]], dtype=float32))\n",
      "(array([[ 0.14783333]], dtype=float32), '----------------', array([[ 0.83744788]], dtype=float32))\n",
      "(array([[ 0.14117104]], dtype=float32), '----------------', array([[ 0.80205446]], dtype=float32))\n",
      "(array([[ 0.13944441]], dtype=float32), '----------------', array([[ 0.79288179]], dtype=float32))\n",
      "(array([[ 0.14976937]], dtype=float32), '----------------', array([[ 0.84773308]], dtype=float32))\n",
      "(array([[ 0.14161438]], dtype=float32), '----------------', array([[ 0.80440968]], dtype=float32))\n",
      "(array([[ 0.14004967]], dtype=float32), '----------------', array([[ 0.79609716]], dtype=float32))\n",
      "(array([[ 0.14401318]], dtype=float32), '----------------', array([[ 0.81715333]], dtype=float32))\n",
      "(array([[ 0.14569345]], dtype=float32), '----------------', array([[ 0.82607979]], dtype=float32))\n",
      "(array([[ 0.14122358]], dtype=float32), '----------------', array([[ 0.80233359]], dtype=float32))\n",
      "(array([[ 0.14216663]], dtype=float32), '----------------', array([[ 0.80734354]], dtype=float32))\n",
      "(array([[ 0.14482459]], dtype=float32), '----------------', array([[ 0.821464]], dtype=float32))\n",
      "(array([[ 0.14381312]], dtype=float32), '----------------', array([[ 0.81609052]], dtype=float32))\n",
      "(array([[ 0.14038584]], dtype=float32), '----------------', array([[ 0.79788309]], dtype=float32))\n",
      "(array([[ 0.14425929]], dtype=float32), '----------------', array([[ 0.81846082]], dtype=float32))\n",
      "(array([[ 0.14413883]], dtype=float32), '----------------', array([[ 0.81782085]], dtype=float32))\n",
      "(array([[ 0.14217627]], dtype=float32), '----------------', array([[ 0.80739474]], dtype=float32))\n",
      "(array([[ 0.1422859]], dtype=float32), '----------------', array([[ 0.80797714]], dtype=float32))\n",
      "(array([[ 0.14429054]], dtype=float32), '----------------', array([[ 0.81862682]], dtype=float32))\n",
      "(array([[ 0.14296046]], dtype=float32), '----------------', array([[ 0.81156075]], dtype=float32))\n",
      "(array([[ 0.1421971]], dtype=float32), '----------------', array([[ 0.80750543]], dtype=float32))\n",
      "(array([[ 0.14312594]], dtype=float32), '----------------', array([[ 0.81243986]], dtype=float32))\n",
      "(array([[ 0.14402582]], dtype=float32), '----------------', array([[ 0.81722051]], dtype=float32))\n",
      "(array([[ 0.14227493]], dtype=float32), '----------------', array([[ 0.80791891]], dtype=float32))\n",
      "(array([[ 0.14277646]], dtype=float32), '----------------', array([[ 0.81058329]], dtype=float32))\n",
      "(array([[ 0.14356171]], dtype=float32), '----------------', array([[ 0.8147549]], dtype=float32))\n",
      "(array([[ 0.14313573]], dtype=float32), '----------------', array([[ 0.81249189]], dtype=float32))\n",
      "(array([[ 0.14241681]], dtype=float32), '----------------', array([[ 0.80867261]], dtype=float32))\n",
      "(array([[ 0.14326829]], dtype=float32), '----------------', array([[ 0.81319612]], dtype=float32))\n",
      "(array([[ 0.14333561]], dtype=float32), '----------------', array([[ 0.81355375]], dtype=float32))\n",
      "(array([[ 0.14281934]], dtype=float32), '----------------', array([[ 0.8108111]], dtype=float32))\n",
      "(array([[ 0.14272097]], dtype=float32), '----------------', array([[ 0.81028849]], dtype=float32))\n",
      "(array([[ 0.14342636]], dtype=float32), '----------------', array([[ 0.81403583]], dtype=float32))\n",
      "(array([[ 0.14300352]], dtype=float32), '----------------', array([[ 0.81178957]], dtype=float32))\n",
      "(array([[ 0.14276844]], dtype=float32), '----------------', array([[ 0.81054068]], dtype=float32))\n",
      "(array([[ 0.14307745]], dtype=float32), '----------------', array([[ 0.81218225]], dtype=float32))\n",
      "(array([[ 0.14326334]], dtype=float32), '----------------', array([[ 0.81316984]], dtype=float32))\n",
      "(array([[ 0.14283159]], dtype=float32), '----------------', array([[ 0.81087619]], dtype=float32))\n",
      "(array([[ 0.14294143]], dtype=float32), '----------------', array([[ 0.81145966]], dtype=float32))\n",
      "(array([[ 0.143159]], dtype=float32), '----------------', array([[ 0.81261551]], dtype=float32))\n",
      "(array([[ 0.14307886]], dtype=float32), '----------------', array([[ 0.81218982]], dtype=float32))\n",
      "(array([[ 0.1428351]], dtype=float32), '----------------', array([[ 0.81089479]], dtype=float32))\n",
      "(array([[ 0.14308745]], dtype=float32), '----------------', array([[ 0.81223541]], dtype=float32))\n",
      "(array([[ 0.14311573]], dtype=float32), '----------------', array([[ 0.81238562]], dtype=float32))\n",
      "(array([[ 0.14295354]], dtype=float32), '----------------', array([[ 0.81152403]], dtype=float32))\n",
      "(array([[ 0.1429435]], dtype=float32), '----------------', array([[ 0.81147069]], dtype=float32))\n",
      "(array([[ 0.14312777]], dtype=float32), '----------------', array([[ 0.81244957]], dtype=float32))\n",
      "(array([[ 0.14301968]], dtype=float32), '----------------', array([[ 0.81187534]], dtype=float32))\n",
      "(array([[ 0.14295173]], dtype=float32), '----------------', array([[ 0.81151438]], dtype=float32))\n",
      "(array([[ 0.14302832]], dtype=float32), '----------------', array([[ 0.8119213]], dtype=float32))\n",
      "(array([[ 0.14309296]], dtype=float32), '----------------', array([[ 0.81226468]], dtype=float32))\n",
      "(array([[ 0.14296754]], dtype=float32), '----------------', array([[ 0.81159836]], dtype=float32))\n",
      "(array([[ 0.14299437]], dtype=float32), '----------------', array([[ 0.81174093]], dtype=float32))\n",
      "(array([[ 0.14306229]], dtype=float32), '----------------', array([[ 0.81210178]], dtype=float32))\n",
      "(array([[ 0.14303514]], dtype=float32), '----------------', array([[ 0.81195754]], dtype=float32))\n",
      "(array([[ 0.14296934]], dtype=float32), '----------------', array([[ 0.81160796]], dtype=float32))\n",
      "(array([[ 0.14303726]], dtype=float32), '----------------', array([[ 0.81196874]], dtype=float32))\n",
      "(array([[ 0.1430468]], dtype=float32), '----------------', array([[ 0.81201941]], dtype=float32))\n",
      "(array([[ 0.14300334]], dtype=float32), '----------------', array([[ 0.81178862]], dtype=float32))\n",
      "(array([[ 0.14299682]], dtype=float32), '----------------', array([[ 0.81175393]], dtype=float32))\n",
      "(array([[ 0.14305027]], dtype=float32), '----------------', array([[ 0.81203789]], dtype=float32))\n",
      "(array([[ 0.14302146]], dtype=float32), '----------------', array([[ 0.81188488]], dtype=float32))\n",
      "(array([[ 0.14299959]], dtype=float32), '----------------', array([[ 0.81176865]], dtype=float32))\n",
      "(array([[ 0.1430226]], dtype=float32), '----------------', array([[ 0.8118909]], dtype=float32))\n",
      "(array([[ 0.14304043]], dtype=float32), '----------------', array([[ 0.81198561]], dtype=float32))\n",
      "(array([[ 0.14300585]], dtype=float32), '----------------', array([[ 0.81180191]], dtype=float32))\n",
      "(array([[ 0.14301258]], dtype=float32), '----------------', array([[ 0.81183767]], dtype=float32))\n",
      "(array([[ 0.14303157]], dtype=float32), '----------------', array([[ 0.81193852]], dtype=float32))\n",
      "(array([[ 0.14302498]], dtype=float32), '----------------', array([[ 0.81190354]], dtype=float32))\n"
     ]
    },
    {
     "name": "stdout",
     "output_type": "stream",
     "text": [
      "(array([[ 0.14300574]], dtype=float32), '----------------', array([[ 0.81180131]], dtype=float32))\n",
      "(array([[ 0.14302434]], dtype=float32), '----------------', array([[ 0.81190014]], dtype=float32))\n",
      "(array([[ 0.14302815]], dtype=float32), '----------------', array([[ 0.8119204]], dtype=float32))\n",
      "(array([[ 0.14301533]], dtype=float32), '----------------', array([[ 0.81185222]], dtype=float32))\n",
      "(array([[ 0.14301345]], dtype=float32), '----------------', array([[ 0.81184226]], dtype=float32))\n",
      "(array([[ 0.14302844]], dtype=float32), '----------------', array([[ 0.81192189]], dtype=float32))\n",
      "(array([[ 0.14302069]], dtype=float32), '----------------', array([[ 0.81188077]], dtype=float32))\n",
      "(array([[ 0.14301433]], dtype=float32), '----------------', array([[ 0.81184691]], dtype=float32))\n",
      "(array([[ 0.14302057]], dtype=float32), '----------------', array([[ 0.81188011]], dtype=float32))\n",
      "(array([[ 0.1430259]], dtype=float32), '----------------', array([[ 0.81190842]], dtype=float32))\n",
      "(array([[ 0.14301629]], dtype=float32), '----------------', array([[ 0.8118574]], dtype=float32))\n",
      "(array([[ 0.14301774]], dtype=float32), '----------------', array([[ 0.81186509]], dtype=float32))\n",
      "(array([[ 0.14302336]], dtype=float32), '----------------', array([[ 0.81189489]], dtype=float32))\n",
      "(array([[ 0.14302154]], dtype=float32), '----------------', array([[ 0.81188524]], dtype=float32))\n",
      "(array([[ 0.14301606]], dtype=float32), '----------------', array([[ 0.81185615]], dtype=float32))\n",
      "(array([[ 0.1430212]], dtype=float32), '----------------', array([[ 0.81188345]], dtype=float32))\n",
      "(array([[ 0.14302242]], dtype=float32), '----------------', array([[ 0.81188995]], dtype=float32))\n",
      "(array([[ 0.14301881]], dtype=float32), '----------------', array([[ 0.81187075]], dtype=float32))\n",
      "(array([[ 0.14301819]], dtype=float32), '----------------', array([[ 0.81186742]], dtype=float32))\n",
      "(array([[ 0.14302239]], dtype=float32), '----------------', array([[ 0.81188977]], dtype=float32))\n",
      "(array([[ 0.14302036]], dtype=float32), '----------------', array([[ 0.81187898]], dtype=float32))\n",
      "(array([[ 0.14301842]], dtype=float32), '----------------', array([[ 0.81186873]], dtype=float32))\n",
      "(array([[ 0.14302018]], dtype=float32), '----------------', array([[ 0.81187803]], dtype=float32))\n",
      "(array([[ 0.14302173]], dtype=float32), '----------------', array([[ 0.81188631]], dtype=float32))\n",
      "(array([[ 0.14301905]], dtype=float32), '----------------', array([[ 0.81187201]], dtype=float32))\n",
      "(array([[ 0.14301938]], dtype=float32), '----------------', array([[ 0.81187379]], dtype=float32))\n",
      "(array([[ 0.143021]], dtype=float32), '----------------', array([[ 0.81188238]], dtype=float32))\n",
      "(array([[ 0.14302053]], dtype=float32), '----------------', array([[ 0.81187987]], dtype=float32))\n",
      "(array([[ 0.14301896]], dtype=float32), '----------------', array([[ 0.81187159]], dtype=float32))\n",
      "(array([[ 0.14302033]], dtype=float32), '----------------', array([[ 0.81187886]], dtype=float32))\n",
      "(array([[ 0.14302076]], dtype=float32), '----------------', array([[ 0.81188112]], dtype=float32))\n",
      "(array([[ 0.14301974]], dtype=float32), '----------------', array([[ 0.8118757]], dtype=float32))\n",
      "(array([[ 0.14301953]], dtype=float32), '----------------', array([[ 0.81187457]], dtype=float32))\n",
      "(array([[ 0.14302072]], dtype=float32), '----------------', array([[ 0.81188089]], dtype=float32))\n",
      "(array([[ 0.1430202]], dtype=float32), '----------------', array([[ 0.81187814]], dtype=float32))\n",
      "(array([[ 0.14301962]], dtype=float32), '----------------', array([[ 0.81187505]], dtype=float32))\n",
      "(array([[ 0.14302009]], dtype=float32), '----------------', array([[ 0.81187755]], dtype=float32))\n",
      "(array([[ 0.14302057]], dtype=float32), '----------------', array([[ 0.81188011]], dtype=float32))\n",
      "(array([[ 0.14301983]], dtype=float32), '----------------', array([[ 0.81187618]], dtype=float32))\n",
      "(array([[ 0.14301988]], dtype=float32), '----------------', array([[ 0.81187648]], dtype=float32))\n",
      "(array([[ 0.14302035]], dtype=float32), '----------------', array([[ 0.81187892]], dtype=float32))\n",
      "(array([[ 0.14302023]], dtype=float32), '----------------', array([[ 0.81187826]], dtype=float32))\n",
      "(array([[ 0.14301977]], dtype=float32), '----------------', array([[ 0.81187582]], dtype=float32))\n",
      "(array([[ 0.14302015]], dtype=float32), '----------------', array([[ 0.81187791]], dtype=float32))\n",
      "(array([[ 0.1430203]], dtype=float32), '----------------', array([[ 0.81187868]], dtype=float32))\n",
      "(array([[ 0.14302]], dtype=float32), '----------------', array([[ 0.81187713]], dtype=float32))\n",
      "(array([[ 0.14301991]], dtype=float32), '----------------', array([[ 0.81187665]], dtype=float32))\n",
      "(array([[ 0.14302027]], dtype=float32), '----------------', array([[ 0.8118785]], dtype=float32))\n",
      "(array([[ 0.14302012]], dtype=float32), '----------------', array([[ 0.81187773]], dtype=float32))\n",
      "(array([[ 0.14301997]], dtype=float32), '----------------', array([[ 0.81187695]], dtype=float32))\n",
      "(array([[ 0.14302009]], dtype=float32), '----------------', array([[ 0.81187755]], dtype=float32))\n",
      "(array([[ 0.14302024]], dtype=float32), '----------------', array([[ 0.81187838]], dtype=float32))\n",
      "(array([[ 0.14302002]], dtype=float32), '----------------', array([[ 0.81187719]], dtype=float32))\n",
      "(array([[ 0.14302003]], dtype=float32), '----------------', array([[ 0.81187725]], dtype=float32))\n",
      "(array([[ 0.14302015]], dtype=float32), '----------------', array([[ 0.81187791]], dtype=float32))\n",
      "(array([[ 0.14302014]], dtype=float32), '----------------', array([[ 0.81187779]], dtype=float32))\n",
      "(array([[ 0.14302]], dtype=float32), '----------------', array([[ 0.81187713]], dtype=float32))\n",
      "(array([[ 0.14302009]], dtype=float32), '----------------', array([[ 0.81187755]], dtype=float32))\n",
      "(array([[ 0.14302015]], dtype=float32), '----------------', array([[ 0.81187791]], dtype=float32))\n",
      "(array([[ 0.14302006]], dtype=float32), '----------------', array([[ 0.81187743]], dtype=float32))\n",
      "(array([[ 0.14302003]], dtype=float32), '----------------', array([[ 0.81187725]], dtype=float32))\n",
      "(array([[ 0.14302012]], dtype=float32), '----------------', array([[ 0.81187773]], dtype=float32))\n",
      "(array([[ 0.14302009]], dtype=float32), '----------------', array([[ 0.81187755]], dtype=float32))\n",
      "(array([[ 0.14302003]], dtype=float32), '----------------', array([[ 0.81187725]], dtype=float32))\n",
      "(array([[ 0.14302006]], dtype=float32), '----------------', array([[ 0.81187743]], dtype=float32))\n",
      "(array([[ 0.14302012]], dtype=float32), '----------------', array([[ 0.81187773]], dtype=float32))\n",
      "(array([[ 0.14302008]], dtype=float32), '----------------', array([[ 0.81187749]], dtype=float32))\n",
      "(array([[ 0.14302006]], dtype=float32), '----------------', array([[ 0.81187743]], dtype=float32))\n",
      "(array([[ 0.14302011]], dtype=float32), '----------------', array([[ 0.81187767]], dtype=float32))\n",
      "(array([[ 0.14302009]], dtype=float32), '----------------', array([[ 0.81187755]], dtype=float32))\n",
      "(array([[ 0.14302006]], dtype=float32), '----------------', array([[ 0.81187743]], dtype=float32))\n",
      "(array([[ 0.14302008]], dtype=float32), '----------------', array([[ 0.81187749]], dtype=float32))\n",
      "(array([[ 0.14302011]], dtype=float32), '----------------', array([[ 0.81187767]], dtype=float32))\n",
      "(array([[ 0.14302006]], dtype=float32), '----------------', array([[ 0.81187743]], dtype=float32))\n",
      "(array([[ 0.14302006]], dtype=float32), '----------------', array([[ 0.81187743]], dtype=float32))\n",
      "(array([[ 0.14302009]], dtype=float32), '----------------', array([[ 0.81187755]], dtype=float32))\n",
      "(array([[ 0.14302009]], dtype=float32), '----------------', array([[ 0.81187755]], dtype=float32))\n",
      "(array([[ 0.14302006]], dtype=float32), '----------------', array([[ 0.81187743]], dtype=float32))\n",
      "(array([[ 0.14302006]], dtype=float32), '----------------', array([[ 0.81187743]], dtype=float32))\n",
      "(array([[ 0.14302009]], dtype=float32), '----------------', array([[ 0.81187755]], dtype=float32))\n",
      "(array([[ 0.14302006]], dtype=float32), '----------------', array([[ 0.81187743]], dtype=float32))\n",
      "(array([[ 0.14302005]], dtype=float32), '----------------', array([[ 0.81187731]], dtype=float32))\n",
      "(array([[ 0.14302008]], dtype=float32), '----------------', array([[ 0.81187749]], dtype=float32))\n",
      "(array([[ 0.14302008]], dtype=float32), '----------------', array([[ 0.81187749]], dtype=float32))\n",
      "(array([[ 0.14302006]], dtype=float32), '----------------', array([[ 0.81187743]], dtype=float32))\n",
      "(array([[ 0.14302006]], dtype=float32), '----------------', array([[ 0.81187743]], dtype=float32))\n",
      "(array([[ 0.14302008]], dtype=float32), '----------------', array([[ 0.81187749]], dtype=float32))\n",
      "(array([[ 0.14302008]], dtype=float32), '----------------', array([[ 0.81187749]], dtype=float32))\n",
      "(array([[ 0.14302006]], dtype=float32), '----------------', array([[ 0.81187743]], dtype=float32))\n",
      "(array([[ 0.14302009]], dtype=float32), '----------------', array([[ 0.81187755]], dtype=float32))\n",
      "(array([[ 0.14302009]], dtype=float32), '----------------', array([[ 0.81187755]], dtype=float32))\n",
      "(array([[ 0.14302008]], dtype=float32), '----------------', array([[ 0.81187749]], dtype=float32))\n",
      "(array([[ 0.14302006]], dtype=float32), '----------------', array([[ 0.81187743]], dtype=float32))\n",
      "(array([[ 0.14302006]], dtype=float32), '----------------', array([[ 0.81187743]], dtype=float32))\n"
     ]
    },
    {
     "name": "stdout",
     "output_type": "stream",
     "text": [
      "(array([[ 0.14302006]], dtype=float32), '----------------', array([[ 0.81187743]], dtype=float32))\n",
      "(array([[ 0.14302006]], dtype=float32), '----------------', array([[ 0.81187743]], dtype=float32))\n",
      "(array([[ 0.14302006]], dtype=float32), '----------------', array([[ 0.81187743]], dtype=float32))\n",
      "(array([[ 0.14302009]], dtype=float32), '----------------', array([[ 0.81187755]], dtype=float32))\n",
      "(array([[ 0.14302009]], dtype=float32), '----------------', array([[ 0.81187755]], dtype=float32))\n",
      "(array([[ 0.14302008]], dtype=float32), '----------------', array([[ 0.81187749]], dtype=float32))\n",
      "(array([[ 0.14302006]], dtype=float32), '----------------', array([[ 0.81187743]], dtype=float32))\n",
      "(array([[ 0.14302006]], dtype=float32), '----------------', array([[ 0.81187743]], dtype=float32))\n",
      "(array([[ 0.14302006]], dtype=float32), '----------------', array([[ 0.81187743]], dtype=float32))\n",
      "(array([[ 0.14302006]], dtype=float32), '----------------', array([[ 0.81187743]], dtype=float32))\n",
      "(array([[ 0.14302006]], dtype=float32), '----------------', array([[ 0.81187743]], dtype=float32))\n",
      "(array([[ 0.14302009]], dtype=float32), '----------------', array([[ 0.81187755]], dtype=float32))\n",
      "(array([[ 0.14302009]], dtype=float32), '----------------', array([[ 0.81187755]], dtype=float32))\n",
      "(array([[ 0.14302008]], dtype=float32), '----------------', array([[ 0.81187749]], dtype=float32))\n",
      "(array([[ 0.14302006]], dtype=float32), '----------------', array([[ 0.81187743]], dtype=float32))\n",
      "(array([[ 0.14302006]], dtype=float32), '----------------', array([[ 0.81187743]], dtype=float32))\n",
      "(array([[ 0.14302006]], dtype=float32), '----------------', array([[ 0.81187743]], dtype=float32))\n",
      "(array([[ 0.14302006]], dtype=float32), '----------------', array([[ 0.81187743]], dtype=float32))\n",
      "(array([[ 0.14302006]], dtype=float32), '----------------', array([[ 0.81187743]], dtype=float32))\n",
      "(array([[ 0.14302009]], dtype=float32), '----------------', array([[ 0.81187755]], dtype=float32))\n",
      "(array([[ 0.14302009]], dtype=float32), '----------------', array([[ 0.81187755]], dtype=float32))\n",
      "(array([[ 0.14302008]], dtype=float32), '----------------', array([[ 0.81187749]], dtype=float32))\n",
      "(array([[ 0.14302006]], dtype=float32), '----------------', array([[ 0.81187743]], dtype=float32))\n",
      "(array([[ 0.14302006]], dtype=float32), '----------------', array([[ 0.81187743]], dtype=float32))\n",
      "(array([[ 0.14302006]], dtype=float32), '----------------', array([[ 0.81187743]], dtype=float32))\n",
      "(array([[ 0.14302006]], dtype=float32), '----------------', array([[ 0.81187743]], dtype=float32))\n",
      "(array([[ 0.14302006]], dtype=float32), '----------------', array([[ 0.81187743]], dtype=float32))\n",
      "(array([[ 0.14302009]], dtype=float32), '----------------', array([[ 0.81187755]], dtype=float32))\n",
      "(array([[ 0.14302009]], dtype=float32), '----------------', array([[ 0.81187755]], dtype=float32))\n",
      "(array([[ 0.14302008]], dtype=float32), '----------------', array([[ 0.81187749]], dtype=float32))\n",
      "(array([[ 0.14302006]], dtype=float32), '----------------', array([[ 0.81187743]], dtype=float32))\n",
      "(array([[ 0.14302006]], dtype=float32), '----------------', array([[ 0.81187743]], dtype=float32))\n",
      "(array([[ 0.14302006]], dtype=float32), '----------------', array([[ 0.81187743]], dtype=float32))\n",
      "(array([[ 0.14302006]], dtype=float32), '----------------', array([[ 0.81187743]], dtype=float32))\n",
      "(array([[ 0.14302006]], dtype=float32), '----------------', array([[ 0.81187743]], dtype=float32))\n",
      "(array([[ 0.14302009]], dtype=float32), '----------------', array([[ 0.81187755]], dtype=float32))\n",
      "(array([[ 0.14302009]], dtype=float32), '----------------', array([[ 0.81187755]], dtype=float32))\n",
      "(array([[ 0.14302008]], dtype=float32), '----------------', array([[ 0.81187749]], dtype=float32))\n",
      "(array([[ 0.14302006]], dtype=float32), '----------------', array([[ 0.81187743]], dtype=float32))\n",
      "Generation Completed!\n"
     ]
    }
   ],
   "source": [
    "generated_rhythm = []\n",
    "# Should be a multiple of len(rhythm_data[0])\n",
    "num_samples = train_size\n",
    "\n",
    "# fix random seed for reproducibility\n",
    "#np.random.seed(7)\n",
    "start = np.random.randint(0, train_size-1)\n",
    "pattern_raw = list(X_train[0])\n",
    "pattern = np.array(pattern_raw)\n",
    "print(\"Seed:\")\n",
    "print(pattern)\n",
    "\n",
    "# generate sequence with a random seed\n",
    "for i in range(num_samples):\n",
    "    x = np.reshape(pattern, (1, 1, len(pattern)))\n",
    "    \n",
    "    prediction = model.predict(x, verbose=0)\n",
    "    fr = scaler.inverse_transform(prediction)\n",
    "    \n",
    "    print(prediction,\"----------------\",fr)\n",
    "    generated_rhythm.append(fr[0,0])\n",
    "    pattern_raw.append(prediction)\n",
    "    pattern_raw = pattern_raw[1:len(pattern_raw)]\n",
    "    pattern = np.array(pattern_raw)\n",
    "print(\"Generation Completed!\")"
   ]
  },
  {
   "cell_type": "code",
   "execution_count": 114,
   "metadata": {},
   "outputs": [
    {
     "data": {
      "text/plain": [
       "221"
      ]
     },
     "execution_count": 114,
     "metadata": {},
     "output_type": "execute_result"
    }
   ],
   "source": [
    "len(generated_rhythm)"
   ]
  },
  {
   "cell_type": "code",
   "execution_count": 115,
   "metadata": {
    "scrolled": true
   },
   "outputs": [
    {
     "name": "stdout",
     "output_type": "stream",
     "text": [
      "[0.58416861, 0.57791221, 1.1411741, 0.90769368, 0.59251899, 0.94885075, 0.8012749, 0.78986889, 0.82473356, 0.93398434, 0.86940116, 0.75578201, 0.82722414, 0.90019828, 0.75626647, 0.83132541, 0.85554355, 0.8170616, 0.77924478, 0.81976491, 0.83744788, 0.80205446, 0.79288179, 0.84773308, 0.80440968, 0.79609716, 0.81715333, 0.82607979, 0.80233359, 0.80734354, 0.821464, 0.81609052, 0.79788309, 0.81846082, 0.81782085, 0.80739474, 0.80797714, 0.81862682, 0.81156075, 0.80750543, 0.81243986, 0.81722051, 0.80791891, 0.81058329, 0.8147549, 0.81249189, 0.80867261, 0.81319612, 0.81355375, 0.8108111, 0.81028849, 0.81403583, 0.81178957, 0.81054068, 0.81218225, 0.81316984, 0.81087619, 0.81145966, 0.81261551, 0.81218982, 0.81089479, 0.81223541, 0.81238562, 0.81152403, 0.81147069, 0.81244957, 0.81187534, 0.81151438, 0.8119213, 0.81226468, 0.81159836, 0.81174093, 0.81210178, 0.81195754, 0.81160796, 0.81196874, 0.81201941, 0.81178862, 0.81175393, 0.81203789, 0.81188488, 0.81176865, 0.8118909, 0.81198561, 0.81180191, 0.81183767, 0.81193852, 0.81190354, 0.81180131, 0.81190014, 0.8119204, 0.81185222, 0.81184226, 0.81192189, 0.81188077, 0.81184691, 0.81188011, 0.81190842, 0.8118574, 0.81186509, 0.81189489, 0.81188524, 0.81185615, 0.81188345, 0.81188995, 0.81187075, 0.81186742, 0.81188977, 0.81187898, 0.81186873, 0.81187803, 0.81188631, 0.81187201, 0.81187379, 0.81188238, 0.81187987, 0.81187159, 0.81187886, 0.81188112, 0.8118757, 0.81187457, 0.81188089, 0.81187814, 0.81187505, 0.81187755, 0.81188011, 0.81187618, 0.81187648, 0.81187892, 0.81187826, 0.81187582, 0.81187791, 0.81187868, 0.81187713, 0.81187665, 0.8118785, 0.81187773, 0.81187695, 0.81187755, 0.81187838, 0.81187719, 0.81187725, 0.81187791, 0.81187779, 0.81187713, 0.81187755, 0.81187791, 0.81187743, 0.81187725, 0.81187773, 0.81187755, 0.81187725, 0.81187743, 0.81187773, 0.81187749, 0.81187743, 0.81187767, 0.81187755, 0.81187743, 0.81187749, 0.81187767, 0.81187743, 0.81187743, 0.81187755, 0.81187755, 0.81187743, 0.81187743, 0.81187755, 0.81187743, 0.81187731, 0.81187749, 0.81187749, 0.81187743, 0.81187743, 0.81187749, 0.81187749, 0.81187743, 0.81187755, 0.81187755, 0.81187749, 0.81187743, 0.81187743, 0.81187743, 0.81187743, 0.81187743, 0.81187755, 0.81187755, 0.81187749, 0.81187743, 0.81187743, 0.81187743, 0.81187743, 0.81187743, 0.81187755, 0.81187755, 0.81187749, 0.81187743, 0.81187743, 0.81187743, 0.81187743, 0.81187743, 0.81187755, 0.81187755, 0.81187749, 0.81187743, 0.81187743, 0.81187743, 0.81187743, 0.81187743, 0.81187755, 0.81187755, 0.81187749, 0.81187743, 0.81187743, 0.81187743, 0.81187743, 0.81187743, 0.81187755, 0.81187755, 0.81187749, 0.81187743]\n"
     ]
    }
   ],
   "source": [
    "print(generated_rhythm)"
   ]
  },
  {
   "cell_type": "code",
   "execution_count": null,
   "metadata": {
    "collapsed": true
   },
   "outputs": [],
   "source": [
    "def write_to_file(filename, arg_list):\n",
    "    file = open(filename, 'w')\n",
    "    for item in arg_list:\n",
    "        file.write(str(item)+\" \")\n",
    "    file.close()\n",
    "    print(\"Output dumped to file \",filename)"
   ]
  },
  {
   "cell_type": "code",
   "execution_count": null,
   "metadata": {
    "collapsed": true
   },
   "outputs": [],
   "source": [
    "write_to_file(\"mus_dataset_2_output.txt\",generated_rhythm)"
   ]
  },
  {
   "cell_type": "code",
   "execution_count": 116,
   "metadata": {
    "collapsed": true
   },
   "outputs": [],
   "source": [
    "final_result = np.reshape(generated_rhythm,(len(generated_rhythm)))"
   ]
  },
  {
   "cell_type": "code",
   "execution_count": 117,
   "metadata": {},
   "outputs": [
    {
     "data": {
      "image/png": "[encoded data removed]",
      "text/plain": [
       "<matplotlib.figure.Figure at 0x7fb2d026c910>"
      ]
     },
     "metadata": {},
     "output_type": "display_data"
    }
   ],
   "source": [
    "x = [i for (i,x) in enumerate(final_result)]\n",
    "plt.plot(x,final_result)\n",
    "plt.xlabel(\"Time\")\n",
    "plt.ylabel(\"Duration\")\n",
    "plt.show()"
   ]
  }
 ],
 "metadata": {
  "kernelspec": {
   "display_name": "Python 3",
   "language": "python",
   "name": "python3"
  },
  "language_info": {
   "codemirror_mode": {
    "name": "ipython",
    "version": 3
   },
   "file_extension": ".py",
   "mimetype": "text/x-python",
   "name": "python",
   "nbconvert_exporter": "python",
   "pygments_lexer": "ipython3",
   "version": "3.6.2"
  }
 },
 "nbformat": 4,
 "nbformat_minor": 2
}
